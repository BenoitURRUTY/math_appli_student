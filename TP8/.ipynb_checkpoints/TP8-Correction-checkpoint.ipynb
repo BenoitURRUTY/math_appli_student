{
 "cells": [
  {
   "cell_type": "markdown",
   "metadata": {},
   "source": [
    "# Séance nº8 du 13 décembre 2017 : intégration numérique\n",
    "\n",
    "## Evolution temporelle d’un système : l'attracteur de Lorenz\n",
    "\n",
    "Le système de Lorenz (1963) couple trois équations différentielles qui décrivent l’évolution d’ue masse d’air en convection (vitesse ascentionnelle, gradient vertical de température, et dérivé de ce gradient) :\n",
    "\n",
    "dx/dt = sig.(y-x)\n",
    "\n",
    "dy/dt = r.x -y -x.z\n",
    "\n",
    "dz/dt = x.y -b.z\n",
    "\n",
    "\\* Définir la fonction ‘fdot’ qui permet de calculer les dérivées dx/dt, dy/dt, dz/dt en fonction de x,y,z (la fonction fdot renvoie 3 éléments à partir de 3 éléments d’entrée).\n",
    "\n",
    "\\* Définir la variable x0 et le temps t0 initiaux, et la matrice des pas de temps t sur lesquels on veut calculer la variable (par ex. 100 pas de temps).\n",
    "\n",
    "\\* Intégrer le système en partant par exemple du point initial x=-10, y=10, z=25; avec les valeurs correspondant à l'atmosphère : sig=10, r=28, b=8/3.\n",
    "\n",
    "\\* Représenter la trajectoire du point (x,y,z) en 3D. Quelle est la convergence ?\n",
    "\n",
    "\\* Simuler la trajectoire en partant d'un point très proche : x=-10.001. Comment varie la différence avec la trajectoire précédente ?\n",
    "\n",
    "Edward N. Lorenz, 1963. Deterministic Nonperiodic Flow, JASTP, 20, 130-141.\n"
   ]
  }
 ],
 "metadata": {
  "kernelspec": {
   "display_name": "Python 3",
   "language": "python",
   "name": "python3"
  },
  "language_info": {
   "codemirror_mode": {
    "name": "ipython",
    "version": 3
   },
   "file_extension": ".py",
   "mimetype": "text/x-python",
   "name": "python",
   "nbconvert_exporter": "python",
   "pygments_lexer": "ipython3",
   "version": "3.7.1"
  }
 },
 "nbformat": 4,
 "nbformat_minor": 2
}
