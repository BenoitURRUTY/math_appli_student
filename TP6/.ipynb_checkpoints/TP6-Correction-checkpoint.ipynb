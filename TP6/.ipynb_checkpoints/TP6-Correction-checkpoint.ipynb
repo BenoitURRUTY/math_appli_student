{
 "cells": [
  {
   "cell_type": "markdown",
   "metadata": {},
   "source": [
    "# Séance nº6 du 29 novembre 2017 : intégration numérique (modèle PREM)\n",
    "\n",
    "Intégration numérique de la masse de la Terre et du temps de trajet des ondes P avec le modèle PREM\n",
    "\n",
    " Le modèle ‘*Preliminary Reference Earth Model*’ (Dziewonski & Anderson, 1981) fournit des profils verticaux de vitesse des ondes P et de densité par intervalles de profondeur, pour un modèle de Terre axisymétrique (1D).\n",
    "\n",
    " On se propose d’utiliser ce modèle pour (1) calculer la masse de la Terre, (2) en déduire la valeur de la gravité g en surface, et (3) calculer le temps de trajet des ondes P qui traversent la Terre exactement par son centre.\n",
    "\n",
    "## 1. Liens avec le cours\n",
    "\n",
    " \\* Pourquoi la gravité à la surface de la Terre ne dépend que de la masse intérieure ? Comment varie-t’elle en fonction de l’altitude ?\n",
    "\n",
    " \\* Exprimer le volume élémentaire dV en repère sphérique, en fonction de r, theta, phi. Exprimer la masse totale de la Terre (modèle axi-symétrique) en fonction de r et rho(r).\n",
    "\n",
    "## 2. Approche numérique\n",
    "\n",
    " \\* Est-ce-que ces calculs sont possibles de façon analytique ? Quel(s) intérêt(s) à une approche numérique ?\n",
    "\n",
    " \\* Quelles approximations doivent être faites avec l’approche numérique ?\n",
    "\n",
    "## 3. Ecrire des algorithmes et programmes pour résoudre les étapes suivantes :\n",
    "\n",
    "1. lire les profils de vitesse et densité dans le fichier du modèle PREM ;\n",
    "\n",
    "2. réaliser une boucle sur les profondeurs avec un nombre N d’intervalles ;\n",
    "\n",
    "3. pour chaque intervalle de profondeur : calculer rho(z), dm(z), et le temps de trajet dt des ondes P ;\n",
    "\n",
    "4. ajouter ces dm et dt pour calculer la masse de la Terre et le temps de trajet des ondes P ;\n",
    "\n",
    "5. calculer g à la surface de la Terre : $g = G.M/R^2$ ($G = 6.67\\times10^{-11}$ $N/m^2/kg^2$)\n",
    "\n",
    "Propositions : essayer de procéder par étapes pour séparer les problèmes. Chaque étape doit être validée avant de passer à la suivante.\n",
    "\n",
    "Etape 1 : on utilise des valeurs moyennes de Vp et rho dans les calculs\n",
    "\n",
    "Etape 2 : créer les structures fonctions qui renvoient des valeurs constantes (moyennes) de Vp et rho, quelle que soit la profondeur z. On vérifie (important avant de passer à la suite) que l’on obtient les mêmes valeurs pour le temps de trajet et la masse totale que précédemment.\n",
    "\n",
    "Etape 3 : on prend en compte les données du modèle PREM pour calculer Vp et rho, mais pas encore de manière exacte (ceci afin de séparer la difficulté de choisir les coefficients correspondants à la profondeur correcte). On lit ces données dans le fichier PREM\\_table1.txt, et on modifie les fonctions qui calculent Vp et rho de façon à utiliser le formalisme du modèle PREM (polynômes). On peut utiliser les valeurs du premier intervalle, et on doit obtenir des valeurs cohérentes pour le noyau de la Terre.\n",
    "\n",
    "Etape 4 : on modifie les fonctions pour calculer les valeurs Vp et rho données par PREM (choix de l’intervalle de profondeur en fonction de z avec une boucle *while*). On doit obtenir les vraies valeurs pour le temps de trajet (~10min) et la masse de la Terre ($~5.97\\times 10^{24}$kg soit g~9.81 $m/s^2$).\n"
   ]
  }
 ],
 "metadata": {
  "kernelspec": {
   "display_name": "Python 3",
   "language": "python",
   "name": "python3"
  },
  "language_info": {
   "codemirror_mode": {
    "name": "ipython",
    "version": 3
   },
   "file_extension": ".py",
   "mimetype": "text/x-python",
   "name": "python",
   "nbconvert_exporter": "python",
   "pygments_lexer": "ipython3",
   "version": "3.7.1"
  }
 },
 "nbformat": 4,
 "nbformat_minor": 2
}
