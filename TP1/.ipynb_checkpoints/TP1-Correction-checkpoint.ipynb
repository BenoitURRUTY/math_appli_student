{
 "cells": [
  {
   "cell_type": "markdown",
   "metadata": {},
   "source": [
    "# Séance nº1 du 6 novembre 2019 : statistiques descriptives ; algorithme\n",
    "## 1. Introductions\n",
    "#### 1.1. admin : Objectifs des séances de TP + MCC\n",
    "* applications du cours (traitement et description de données : statistiques, géophysique : intégration)\n",
    "* algorithme et programmation (réviser cours de INF111)\n",
    "* maitriser un outil de calcul sur votre portable (autonomie), voire plusieurs outils\n",
    "* contenu : traitement de données, statistiques descriptives; algorithme; intégration numérique; traitement des données (interpolation; EOF, FFT, etc.)\n",
    "MCC : 2 contrôle continus (dont exercice complet) pour 50% de la moyenne\n",
    "\n",
    "#### 1.2 Différents logiciels pour différentes utilisations : généralistes à très spécialisés (par ex. traitement de la date, géo-référencement, bibliothèques spécifiques)\n",
    "## 2. Exercice 1 : description statistique des températures à Genève (cf. cours de maths nº4)\n",
    "#### 2.1. Les formats de données\n",
    "Format ‘brut’ en texte ASCII avec méta-données (entête, référence, etc.).\n",
    "Les problèmes du format texte : le séparateur de colonnes (CSV) ; le séparateur décimal; les méta-données (mélange type texte et numérique); le codage des sauts de ligne : CR vs. LF.\n",
    "Autres formats : binaire (netCDF : dédié), propriétaires (XLS, ODF, etc.)"
   ]
  },
  {
   "cell_type": "markdown",
   "metadata": {},
   "source": [
    "* Données ‘tabulées’ c’est à dire mises sous forme de tableau, avec comme séparateur de colonne : tabulation\n",
    "(format TSV), point virgule (format CSV), sinon espaces. A l’importation des données, utiliser le bon\n",
    "séparateur et veiller à ce que les colonnes soient correctement séparées.\n",
    "* Séparateur décimal : le format international est le point. Si vous êtes en format français (virgule), deux\n",
    "possibilités : soit garder ce format et remplacer dans les données les points par des virgules ; soit changer de\n",
    "format en modifiant les préférences du tableur."
   ]
  },
  {
   "cell_type": "markdown",
   "metadata": {},
   "source": [
    "#### 2.2 Importer le tableau des températures (moyennes mensuelles) à la station de Genève-Cointrin (texte brut)."
   ]
  },
  {
   "cell_type": "markdown",
   "metadata": {},
   "source": [
    "#### 2.3 Vérifier de visu les températures de l'année 1880. Idem pour les valeurs du mois de Janvier (Python : commande print)."
   ]
  },
  {
   "cell_type": "markdown",
   "metadata": {},
   "source": [
    "#### 2.4 Faire un graphe des températures des mois de juin. A quoi correspondent les valeurs de 999.9 ? Les remplacer (comment et par quoi ?)."
   ]
  },
  {
   "cell_type": "markdown",
   "metadata": {},
   "source": [
    "* Très important : très souvent il manque des données dans les séries de mesures. Parce que les données manquent ou sont parcellaires, ou à cause de problème sur les mesures qui les a exclues (les données sont\n",
    "vérifiés et leur homogénéité est testée). L’absence de données est ‘codée’ par une valeur spécifique, très\n",
    "différente des données elles-mêmes, normalement indiquée dans les méta-données (ici 999.9). D’où la\n",
    "nécessité d’explorer le fichier de données avec des graphes, ce qui permet de détecter de telles valeurs.\n",
    "Comment les traiter avec un tableur ? Un tableur supporte les cellules vides, qu’il traite comme une absence\n",
    "de valeur (prise en compte dans les fonctions, par ex. MOYENNE), donc la solution est simple. Pour cela,\n",
    "remplacer toutes les valeurs 999.9 par un vide."
   ]
  },
  {
   "cell_type": "markdown",
   "metadata": {},
   "source": [
    "#### 2.5 Calculer, avec toutes les années disponibles sur la période 1880-2017 : moyenne, écart-type, minimum et maximum, pour chaque mois.\n",
    "#### 2.6 Faire un graphe des ‘normales saisonnières’ (moyennes mensuelles) pour Genève. Ajouter les courbes correspondant à ±1σ, les valeurs maximales et minimales.\n",
    "#### 2.7 Tracer un histogramme des températures des mois de juin. Comment sont distribuées ces valeurs ?Déterminer les paramètres de la loi de distribution normale (gaussienne) la plus proche. L’ajouter (si possible) à l’histogramme.\n",
    "#### 2.8 A quelle année correspond le maximum des mois de juin ? Calculer le rapport (T2003 - Tjuin)/σ. En supposant que la température suit une loi normale (cf. question précédente), calculer la probabilité que la température moyenne d'un mois de juin excède celle de 2003.\n",
    "#### 2.9 Représenter sur un graphe l'évolution des moyennes annuelles de température pour la période 1880-2016.\n",
    "* Est-ce-qu’un modèle linéaire (a.x+b) décrit correctement l’évolution de ces valeurs ? Calculer les paramètres de ce modèle, ainsi que le coefficient de régression correspondant (R). Ajouter ce modèle sur le graphe.\n",
    "* Comment discuter le caractère significatif de R, et du modèle utilisé ? Est-ce-qu’utiliser un modèle avec plus de paramètres (par ex. polynôme de degré 10) permet de mieux représenter l’évolution des températures ?\n",
    "* En utilisant une approche ‘Monte-Carlo’, estimer indépendamment l'incertitude sur la pente a.\n",
    "## 3. Exercice 2 : algorithmes\n",
    "* revoir séances de INF111\n",
    "* définition d’un algorithme, différence avec un programme\n",
    "#### 3.1 Calcul de la somme des entiers de 1 à N\n",
    "Avec une boucle à compteur, puis avec une boucle ‘tant que’.\n",
    "#### 3.2 Calcul du factoriel de N\n",
    "#### 3.3 Trouver la valeur maximale d’un vecteur donné"
   ]
  }
 ],
 "metadata": {
  "kernelspec": {
   "display_name": "Python 3",
   "language": "python",
   "name": "python3"
  },
  "language_info": {
   "codemirror_mode": {
    "name": "ipython",
    "version": 3
   },
   "file_extension": ".py",
   "mimetype": "text/x-python",
   "name": "python",
   "nbconvert_exporter": "python",
   "pygments_lexer": "ipython3",
   "version": "3.7.3"
  }
 },
 "nbformat": 4,
 "nbformat_minor": 2
}
