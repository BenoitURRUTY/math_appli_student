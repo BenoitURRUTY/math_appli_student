{
 "cells": [
  {
   "cell_type": "markdown",
   "metadata": {},
   "source": [
    "# TP2: algorithme ; incertitude de mesures"
   ]
  },
  {
   "cell_type": "markdown",
   "metadata": {},
   "source": [
    "##  Exercice 1 : algorithmes\n",
    "\n",
    "1. Calculer la somme des entiers de 1 à N, avec une boucle à compteur, puis avec une boucle ‘tant que’.\n",
    "2. Calculer le factoriel de N\n"
   ]
  },
  {
   "cell_type": "code",
   "execution_count": null,
   "metadata": {},
   "outputs": [],
   "source": []
  },
  {
   "cell_type": "markdown",
   "metadata": {},
   "source": [
    "## Exercice 2 : incertitudes de mesures ; propagation dans un calcul\n",
    "\n",
    "\n",
    "2.1 Rappels de cours 4\n",
    "\n",
    "\\* notions d’erreur, d’incertitude ; précision et justesse d’un système de mesure\n",
    "\n",
    "\\* métrique standard (std) et interprétation dans le cadre de la loi de distribution normale (et loi de Student)\n",
    "\n",
    "\\* propagation d’incertitude : formule générale, formules particulières"
   ]
  },
  {
   "cell_type": "markdown",
   "metadata": {},
   "source": [
    "2.2 Application : mesures des concentrations chimiques des aérosols en Antarctique\n",
    "\n",
    "Le programme CESOA (Cycle atmosphérique du soufre aux moyennes et hautes latitudes sud) réalise un suivi des concentrations en différentes espèces chimiques, notamment soufrées, contenues dans les aérosols en Antarctique. On s’intéresse ici aux mesures en sulfate (SO<sub>4</sub><sup>2-</sup>) et nitrate (NO<sub>3</sub><sup>-</sup>) réalisées pendant l’année 2016 à la station française de Dumont d’Urville, sur la côte antarctique. (*Un grand merci à Bruno Jourdain pour la communication de ces résultats dont il est responsable*)\n",
    "\n",
    "L’air est pompé à travers un filtre pendant 24 à 48h afin d’en récupérer les aérosols. Les espèces chimiques sont mises en solution et leur concentration mesurée par chromatographie. La concentration mesurée (Cl, en ng/mL) dans un volume connu de solution (Vl, en mL) permet de calculer la concentration de l’espèce dans l’air (Cair, en ng/m<sup>3</sup>) à partir du volume d’air pompé, Vair (m<sup>3</sup>).\n",
    "\n",
    "Presque tous les mois, une mesure est réalisée sur un filtre propre afin de tester le protocole et les appareils de mesure (‘blanc’ de mesure). Les résultats des blancs sont indiqués dans le tableau ci-dessous.\n",
    "\n",
    "| Sample Name         | NO<sup>3-</sup> (ng/mL) | SO<sub>4</sub><sup>2-</sup> (ng/mL) | volume d'échantillon (mL) |\n",
    "|---------------------|--------------|---------------|----------------------------|\n",
    "| blanc filtre 160216 | 3.91         | 3.38          | 10                         |\n",
    "| blanc filtre 160316 | 3.27         | 3.32          | 10                         |\n",
    "| blanc filtre 150416 | 24.41        | 10.05         | 10                         |\n",
    "| blanc filtre 160516 | 13.56        | 7.49          | 10                         |\n",
    "| blanc filtre 130616 | 52.91        | 8.85          | 10                         |\n",
    "| blanc filtre 150716 | 5.81         | 15.23         | 10                         |\n",
    "| blanc filtre 170916 | 55.10        | 12.14         | 10                         |\n",
    "| blanc filtre 161016 | 77.02        | 3.75          | 10                         |\n",
    "| **blanc moyen 2016**    | 29.50        | 7.74          |                            |\n",
    "| **écart type 2016**     | 28.40        | 4.68          |                            |\n",
    "\n",
    "2.2.1 Comment interpréter et utiliser ces résultats des ‘blancs’ de mesures ?"
   ]
  },
  {
   "cell_type": "markdown",
   "metadata": {},
   "source": [
    "2.2.2  Lire le fichier de mesures pour l’année 2016. Calculer les concentrations dans l'air (Vl = 10ml). Explorer\n",
    "ces valeurs avec des graphes."
   ]
  },
  {
   "cell_type": "markdown",
   "metadata": {},
   "source": [
    "2.2.3 Ecrire le calcul formel de la concentration d’une espèce dans l’air, Cair. En déduire l’incertitude sur Cair."
   ]
  },
  {
   "cell_type": "markdown",
   "metadata": {},
   "source": [
    "2.2.4 Application : l’incertitude sur le volume d’air pompé Vair est de 0.1 pourmil. L'incertitude sur le volume\n",
    "de liquide Vl est de 1 pourmil. Calculer Cair et son incertitude pour le sulfate. Faire un graphe pour le mois\n",
    "de novembre, avec les barres d’incertitude. Quelle source d’incertitude domine ?"
   ]
  },
  {
   "cell_type": "markdown",
   "metadata": {},
   "source": [
    "2.2.5 Distribution des teneurs en sulfate. Le sulfate a une origine locale, biogénique (DMS). Mais des coups de\n",
    "vent (‘entrées maritimes’) peuvent apporter des embruns marins chargés en sels (dont du sulfate). Ces\n",
    "entrées maritimes sont responsables de pics de sulfate. Afin d’essayer de séparer ces deux origines, on\n",
    "explore la distribution des teneurs en sulfate dans l’air. Ordonner ces valeurs sur toute l’année, et faire un\n",
    "graphe en barres de ces valeurs. Peut-on détecter une rupture dans la distribution des valeurs ? Quelle\n",
    "proportion de l’année serait alors concernée par une origine maritime lointaine ?"
   ]
  }
 ],
 "metadata": {
  "kernelspec": {
   "display_name": "Python 3",
   "language": "python",
   "name": "python3"
  },
  "language_info": {
   "codemirror_mode": {
    "name": "ipython",
    "version": 3
   },
   "file_extension": ".py",
   "mimetype": "text/x-python",
   "name": "python",
   "nbconvert_exporter": "python",
   "pygments_lexer": "ipython3",
   "version": "3.7.3"
  }
 },
 "nbformat": 4,
 "nbformat_minor": 2
}
