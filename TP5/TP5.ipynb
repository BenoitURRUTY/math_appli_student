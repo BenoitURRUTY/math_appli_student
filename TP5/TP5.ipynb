{
 "cells": [
  {
   "cell_type": "markdown",
   "metadata": {},
   "source": [
    "# Séance nº5 : régression (fin) ; intégration numérique"
   ]
  },
  {
   "cell_type": "code",
   "execution_count": 3,
   "metadata": {},
   "outputs": [],
   "source": [
    "import numpy as np \n",
    "import matplotlib.pyplot as plt #import des packages\n",
    "\n",
    "[Years, SMB, Albedo_mean]=np.loadtxt('Donnees_BM-Albedo_Argentiere_2000-2014.csv',skiprows=1,unpack=True)\n",
    "#import des données \"unpack\" permet de séparer nos données en 3 variables dans notre cas \n",
    "\n",
    "mean_x=np.mean(Albedo_mean)\n",
    "n=len(Albedo_mean)\n",
    "Var_albedo=1/n*np.sum((Albedo_mean-mean_x)**2) #Variance albedo\n",
    "std_x=np.sqrt(Var_albedo)#ecart type albedo\n",
    "\n",
    "mean_y=np.mean(SMB)\n",
    "Var_SMB=1/n*np.sum((SMB-mean_y)**2)#Variance Bilan de masse\n",
    "std_y=np.sqrt(Var_SMB)#ecart type Bilan de masse\n",
    "\n",
    "#coefficient de corrélation linéaire\n",
    "r = 1./(std_x * std_y * n) * np.sum(  (Albedo_mean-mean_x) * (SMB-mean_y))\n",
    "#coefficient de détermination (google it!!!)\n",
    "r2 = r**2\n",
    "\n",
    "# Puis, on peut estimer, a et b, respectivement la pente et l'intercept de la droite de régression \n",
    "#ayant pour équation bm = a*alb+b.\n",
    "\n",
    "a = r * std_y / std_x #calcul de a. la pente de notre regression linéaire\n",
    "b = np.mean(SMB) - a * np.mean(Albedo_mean) #calcul de b. l'intercept ou l'ordonnée à l'origine de notre régression \n",
    "\n",
    "sse = np.sum( (SMB - (a * Albedo_mean + b))**2 )#somme au carré des erreurs par rapport au données mesurées\n",
    "std_e = np.sqrt(( 1./ (n - 2)) * sse ) \n",
    "std_a = std_e / (np.sqrt(n) * std_x) # Ecart-type sur la pente = 3.2\n",
    "std_b = std_a * np.sqrt((1./n) * np.sum(Albedo_mean**2)) # Ecart-type sur l'intercept = 1.3\n",
    "\n",
    "\n",
    "# Puis on trace cette droite\n",
    "\n",
    "regression = a*Albedo_mean + b # Ici on recalcule les valeurs de bilan si elles étaient toutes sur la droite \n",
    "#(cela nous permet en fait de tracer cette droite de correlation.)\n",
    "\n",
    "\n",
    "alea=np.random.randint(0,len(SMB)-1,size=(15,3000))# je crée une matrice de 15 par 3000 contenant des valeurs \n",
    "#aléatoires comprises entre 0 et 14. \n",
    "\n",
    "bilan=SMB[alea] #je crée un matrice de même taille que \"alea\" mais contenant les valeurs de SMB correspondant\n",
    "# à la valeur de alea. \n",
    "albedo_m=Albedo_mean[alea] #idem pour albedo\n",
    "\n"
   ]
  },
  {
   "cell_type": "markdown",
   "metadata": {},
   "source": [
    "## 1. Fin de l’exercice sur la corrélation entre albedo et bilan de masse d’un glacier\n",
    "\n",
    "Le bilan de masse (gain ou perte nette de masse de l’ensemble du glacier) a aussi été mesuré. Le jeu de données (fichier ‘Donnees\\_BM-Albedo\\_Argentiere\\_2000-2014.csv’) contient l’albedo moyen (minimum atteint en septembre) et le bilan de masse, pour 15 années.\n",
    "\n",
    "\\* Estimation des incertitudes du modèle linéaire par approche Monte-Carlo : ce modèle est appliqué sur 3000\n",
    "échantillons des données (technique 'Bootstrap'). Ré-échantillonner les couples de valeurs albedo - bilan de\n",
    "masse 3000 fois (avec remise). Pour chaque échantillon (parmi les 3000) de 15 couples de valeurs, calculer\n",
    "pente et intercept de la régression linéaire. Calculer enfin moyenne et écart type de ces deux paramètres.\n",
    "Comparer avec les statistiques obtenues ci-dessus sous hypothèse de distribution normale."
   ]
  },
  {
   "cell_type": "code",
   "execution_count": 4,
   "metadata": {},
   "outputs": [],
   "source": [
    "alea=np.random.randint(0,len(SMB)-1,size=(15,3000))# je crée une matrice de 15 par 3000 contenant des valeurs \n",
    "#aléatoires comprises entre 0 et 14. \n",
    "\n",
    "bilan=SMB[alea] #je crée un matrice de même taille que \"alea\" mais contenant les valeurs de SMB correspondant\n",
    "# à la valeur de alea. \n",
    "albedo_m=Albedo_mean[alea] #idem pour albedo\n"
   ]
  },
  {
   "cell_type": "markdown",
   "metadata": {},
   "source": [
    "## 2. Introduction à l’intégration numérique\n",
    "\n",
    " Il est courant en géosciences de faire face à une intégrale qu’il est impossible de calculer analytiquement. C’est souvent pour une des deux raisons suivantes :\n",
    "\n",
    "on connaît l’équation différentielle qui décrit le phénomène (lois physiques), mais pas sa primitive ;\n",
    "\n",
    "on connaît le phénomène par des mesures de terrain, et on a besoin d’intégrer l’un des paramètres dans le temps ou l’espace (intégration d’un débit ou des précipitations, par exemple).\n",
    "\n",
    " Pour intégrer numériquement une équation différentielle, ou des données, on a besoin des valeurs pour des pas de temps ou d’espace ‘discrets’. Entre ces pas, les valeurs exactes de ces paramètres ne sont pas connues, et des hypothèses sur ces valeurs manquantes sont nécessaires. Cette discrétisation, inhérente à l’approche numérique, introduit une erreur sur le résultat de l’intégration. Pour réduire cette erreur, il faut d’une part réduire la taille des pas (mais au détriment du coût de calcul), d’autre part utiliser des hypothèses sur les valeurs manquantes plus ‘réalistes’ (ce qu’on appelle des schémas numériques).\n",
    "\n",
    "### 2. 1 *Le schéma d’intégration : la méthode des trapèzes*\n",
    "\n",
    " Soit une fonction *f*(x), que l’on veut intégrer sur l’intervalle \\[x<sub>0</sub>,x<sub>N</sub>\\]. Cet intervalle est discrétisé en N intervalles égaux de longueur ∆x. La méthode d’intégration des trapèzes consiste à approcher l’intégrale de la fonction *f* sur chaque intervalle \\[x<sub>i\\\\ </sub>, x<sub>i+1</sub>\\] = ∆x par l’aire d’un trapèze :\n",
    "\n",
    "$\\int_{x_i}^{x_{i+1}}f(x) dx \\approx \\frac{\\Delta x (f(x_i)+f(x_{i+1}))}{2} $(1)\n",
    "\n",
    "Cette formule (1) est le résultat de l’intégration du développement limité d’ordre 1 de *f*(x), dont le résultat exact est :\n",
    "\n",
    "$\\int_{x_i}^{x_{i+1}}f(x) dx=\\frac{\\Delta x (f(x_i)+f(x_{i+1}))}{2} +O(\\Delta x^3 f'')$ (2)\n",
    "\n",
    "Le second terme du second membre de l’équation (2) quantifie l’erreur commise sur l’intégrale de *f* approchée par la méthode des trapèzes. En choisissant ce schéma, l’ordre de grandeur de l’erreur est quantifié par la valeur faisant intervenir la valeur du pas d’intégration ∆x ainsi que la dérivée seconde de la fonction *f*. (La valeur de l’erreur est fondamentale quand on cherche à faire des calculs précis et justes.)\n",
    "\n",
    "L’interprétation “graphique” du schéma numérique est donnée sur la figure. On comprend alors que plus le pas d’intégration ∆x est petit et plus on se rapproche d’un calcul précis pour la valeur finale de l’intégrale.\n",
    "![figure2](../TP4/figureTP4_2.png)\n",
    "Figure : a) Fonction f(x) à intégrer sur l’intervalle d’intégration \\[x<sub>0</sub>,x<sub>N</sub>\\] , discrétisé en (N+1) points équidistants. Les figures b) et c) illustrent le schéma numérique. L’intégrale entre deux points x<sub>i</sub> et x<sub>i+1</sub> de f(x) est approchée en calcul numérique soit par b) l’aire du trapèze x<sub>i</sub> x<sub>i+1</sub> f<sub>i+1</sub> f<sub>i</sub> , soit par c) l’aire du rectangle de base x<sub>i</sub> et x<sub>i+1</sub> et de hauteur (f<sub>i</sub> + f<sub>i+1</sub> )/2.\n",
    "\n",
    "Soit une fonction *f* que l’on veut intégrer sur un intervalle \\[x<sub>0</sub>,x<sub>N</sub>\\] par la méthode des trapèzes.\n",
    "\n",
    "#### a) Ecrire la relation entre ∆x et N (le nombre d’intervalles).\n",
    "\n",
    "#### b) Montrer que l’aire du trapèze et l’aire du rectangle des figures b et c sont les mêmes.\n",
    "\n",
    "#### c) Ecrire la relation (1) sur tout l’intervalle \\[x<sub>0</sub>,x<sub>N</sub>\\], en fonction des f(x<sub>i</sub>), i∈\\[0,N\\].\n",
    "\n",
    "### 2.2 Intégration de la fonction *f*(x) = x<sup>2</sup>.sinx sur l’intervalle \\[0,π\\]\n",
    "\n",
    "#### a) Intégration analytique (par parties).\n",
    "\n",
    "#### b) Ecrire l’algorithme permettant d’appliquer le schéma numérique (1) pour l’intégration de *f*.\n",
    "\n",
    "Au début de l’algorithme, l’utilisateur donne le nombre de pas (N). On utilisera une itération explicite (boucle). La fonction *f* est calculée dans une structure fonction.\n",
    "\n",
    "#### c) Transcrire l’algorithme en programme. Calculer l’intégrale de *f* pour des valeurs différentes de N (10, 100, 1000). Calculer l’erreur. Calculer l’intégrale avec une fonction résidente de type *integrate* (voir la syntaxe)."
   ]
  }
 ],
 "metadata": {
  "kernelspec": {
   "display_name": "Python 3",
   "language": "python",
   "name": "python3"
  },
  "language_info": {
   "codemirror_mode": {
    "name": "ipython",
    "version": 3
   },
   "file_extension": ".py",
   "mimetype": "text/x-python",
   "name": "python",
   "nbconvert_exporter": "python",
   "pygments_lexer": "ipython3",
   "version": "3.7.3"
  }
 },
 "nbformat": 4,
 "nbformat_minor": 2
}
