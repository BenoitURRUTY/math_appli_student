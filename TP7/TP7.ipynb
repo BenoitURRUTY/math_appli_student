{
 "cells": [
  {
   "cell_type": "markdown",
   "metadata": {},
   "source": [
    "# Séance nº7 du 6 décembre 2017 : intégration numérique\n",
    "\n",
    "Intégration numérique de la masse de la Terre et du temps de trajet des ondes P avec le modèle PREM\n",
    "\n",
    " Le modèle ‘*Preliminary Reference Earth Model*’ (Dziewonski & Anderson, 1981) fournit des profils verticaux de vitesse des ondes P et de densité par intervalles de profondeur, pour un modèle de Terre axisymétrique (1D).\n",
    "\n",
    " On se propose d’utiliser ce modèle pour (1) calculer la masse de la Terre, (2) en déduire la valeur de la gravité g en surface, et (3) calculer le temps de trajet des ondes P qui traversent la Terre exactement par son centre.\n",
    "\n",
    "## 3. Ecrire des algorithmes et programmes pour résoudre les étapes suivantes :\n",
    "\n",
    "1. lire les profils de vitesse et densité dans le fichier du modèle PREM ;\n",
    "\n",
    "2. réaliser une boucle sur les profondeurs avec un nombre N d’intervalles ;\n",
    "\n",
    "3. pour chaque intervalle de profondeur : calculer rho(z), dm(z), et le temps de trajet dt des ondes P ;\n",
    "\n",
    "4. ajouter ces dm et dt pour calculer la masse de la Terre et le temps de trajet des ondes P ;\n",
    "\n",
    "5. calculer g à la surface de la Terre : $g = G.M/R^2$ ($G = 6.67\\times10^{-11}$ $N/m^2/kg^2$)\n",
    "\n",
    "Propositions : essayer de procéder par étapes pour séparer les problèmes. Chaque étape doit être validée avant de passer à la suivante.\n",
    "\n",
    "**Etape 1** : on utilise des valeurs moyennes de Vp et rho dans les calculs\n",
    "\n",
    "**Etape 2** : créer les structures fonctions qui renvoient des valeurs constantes (moyennes) de Vp et rho, quelle que soit la profondeur z. On vérifie (important avant de passer à la suite) que l’on obtient les mêmes valeurs pour le temps de trajet et la masse totale que précédemment.\n",
    "\n",
    "**Etape 3** : on prend en compte les données du modèle PREM pour calculer Vp et rho, mais pas encore de manière exacte (ceci afin de séparer la difficulté de choisir les coefficients correspondants à la profondeur correcte). On lit ces données dans le fichier PREM\\_table1.txt (\\*), et on modifie les fonctions qui calculent Vp et rho de façon à utiliser le formalisme du modèle PREM. On peut utiliser les valeurs du premier intervalle, et on doit obtenir des valeurs cohérentes pour le noyau de la Terre.\n",
    "\n",
    "**Etape 4** : on modifie les fonctions pour calculer les valeurs Vp et rho données par PREM (choix de l’intervalle de profondeur en fonction de z avec une boucle *while *ou* for*). On doit obtenir les vraies valeurs pour le temps de trajet (~20min) et la masse de la Terre (~$5.97\\times10^{24}$kg soit $g\\approx9.81 m/s^2$).\n",
    "\n",
    "\\* Le fichier PREM\\_table1.txt contient les 10 colonnes suivantes :\n",
    "\n",
    "intervalle défini par rayon min et max2x 4 coeff. des polynômes de degré 3 du rayon normalisé x=r/r<sub>a</sub> qui permettent de calculer la masse volumique (rho en g/cm<sup>3</sup>) et la vitesse des ones P (V<sub>P</sub> en km/s)\n",
    "\n",
    " exemple pour la 1<sup>e</sup> ligne : entre 0 et 1222km (en partant du centre de la Terre),\n",
    "\n",
    "rho = 13.0885 + 0\\*x -8.8381\\*x<sup>2</sup> + 0\\*x<sup>3</sup> \\[g/cm<sup>3</sup>\\],\n",
    "\n",
    "et Vp = 11.2622 + 0\\*x -6.3640\\*x<sup>2</sup> + 0\\*x<sup>3</sup> \\[km/s\\].\n",
    "\n"
   ]
  }
 ],
 "metadata": {
  "kernelspec": {
   "display_name": "Python 3",
   "language": "python",
   "name": "python3"
  },
  "language_info": {
   "codemirror_mode": {
    "name": "ipython",
    "version": 3
   },
   "file_extension": ".py",
   "mimetype": "text/x-python",
   "name": "python",
   "nbconvert_exporter": "python",
   "pygments_lexer": "ipython3",
   "version": "3.7.1"
  }
 },
 "nbformat": 4,
 "nbformat_minor": 2
}
